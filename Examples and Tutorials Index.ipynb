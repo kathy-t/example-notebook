{
 "cells": [
  {
   "cell_type": "markdown",
   "metadata": {},
   "source": [
    "<img src=\"../images/jupyter_logo.png\">"
   ]
  },
  {
   "cell_type": "markdown",
   "metadata": {},
   "source": [
    "# Examples and Tutorials"
   ]
  },
  {
   "cell_type": "markdown",
   "metadata": {},
   "source": [
    "This portion of the documentation was generated from notebook files.  You can download the original interactive notebook files using the links at the tops and bottoms of the pages."
   ]
  },
  {
   "cell_type": "markdown",
   "metadata": {},
   "source": [
    "## Tutorials"
   ]
  },
  {
   "cell_type": "markdown",
   "metadata": {
    "collapsed": false
   },
   "source": [
    "* [What is the Jupyter Notebook](What%20is%20the%20Jupyter%20Notebook.html)\n",
    "* [Notebook Basics](Notebook%20Basics.html)\n",
    "* [Running Code](Running%20Code.html)\n",
    "* [Working With Markdown Cells](Working%20With%20Markdown Cells.html)\n",
    "* [Custom Keyboard Shortcuts](Custom%20Keyboard%20Shortcuts.html)\n",
    "* [JavaScript Notebook Extensions](JavaScript%20Notebook%20Extensions.html)"
   ]
  },
  {
   "cell_type": "markdown",
   "metadata": {},
   "source": [
    "## Examples"
   ]
  },
  {
   "cell_type": "markdown",
   "metadata": {
    "collapsed": false
   },
   "source": [
    "* [Importing Notebooks](Importing%20Notebooks.html)\n",
    "* [Connecting with the Qt Console](Connecting%20with%20the%20Qt%20Console.html)\n",
    "* [Typesetting Equations](Typesetting%20Equations.html)"
   ]
  }
 ],
 "metadata": {
  "kernelspec": {
   "display_name": "Python 3",
   "language": "python",
   "name": "python3"
  },
  "language_info": {
   "codemirror_mode": {
    "name": "ipython",
    "version": 3
   },
   "file_extension": ".py",
   "mimetype": "text/x-python",
   "name": "python",
   "nbconvert_exporter": "python",
   "pygments_lexer": "ipython3",
   "version": "3.5.1"
  }
 },
 "nbformat": 4,
 "nbformat_minor": 0
}
